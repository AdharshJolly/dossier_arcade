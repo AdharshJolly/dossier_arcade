{
 "cells": [
  {
   "cell_type": "code",
   "execution_count": 1,
   "id": "5df06eef-a5c3-4e78-bc90-57040a935fa0",
   "metadata": {},
   "outputs": [],
   "source": [
    "import requests\n",
    "from bs4 import BeautifulSoup\n",
    "import pandas as pd"
   ]
  },
  {
   "cell_type": "code",
   "execution_count": 2,
   "id": "231e1ae9-eed1-464b-a306-bd89f614c624",
   "metadata": {},
   "outputs": [],
   "source": [
    "page = requests.get('https://christuniversity.in/')"
   ]
  },
  {
   "cell_type": "code",
   "execution_count": 3,
   "id": "d11db6b4-1978-4b51-8627-32d62981cc0e",
   "metadata": {},
   "outputs": [],
   "source": [
    "soup = BeautifulSoup(page.content, 'html.parser')"
   ]
  },
  {
   "cell_type": "code",
   "execution_count": 4,
   "id": "7802ea31-8f5c-4d0a-adfb-00d8efb110e7",
   "metadata": {},
   "outputs": [],
   "source": [
    "links = soup.find_all('a')\n",
    "link_col = []\n",
    "link_col_type = []\n",
    "for link in links:\n",
    "    href = link.get('href')\n",
    "    if href and (href.startswith('http://') or href.startswith('https://')):\n",
    "        link_col.append(href)\n",
    "        link_col_type.append('Link')"
   ]
  },
  {
   "cell_type": "code",
   "execution_count": 5,
   "id": "e4b9ee15-0210-4102-9fbf-71ea76d5c7cb",
   "metadata": {},
   "outputs": [
    {
     "data": {
      "text/plain": [
       "190"
      ]
     },
     "execution_count": 5,
     "metadata": {},
     "output_type": "execute_result"
    }
   ],
   "source": [
    "link_len = len(link_col)\n",
    "link_len"
   ]
  },
  {
   "cell_type": "code",
   "execution_count": 6,
   "id": "e23ecd99-be29-4a2b-b7e5-9d53dcf98816",
   "metadata": {},
   "outputs": [],
   "source": [
    "images = soup.find_all('img')\n",
    "image_col = []\n",
    "image_col_type = []\n",
    "for img in images:\n",
    "    src = img.get('src')\n",
    "    if src and (src.startswith('http://') or src.startswith('https://')):\n",
    "        image_col.append(src)\n",
    "        image_col_type.append('Image')"
   ]
  },
  {
   "cell_type": "code",
   "execution_count": 7,
   "id": "1565b694-9456-4ddf-ae57-64989c4c30a8",
   "metadata": {},
   "outputs": [
    {
     "data": {
      "text/plain": [
       "151"
      ]
     },
     "execution_count": 7,
     "metadata": {},
     "output_type": "execute_result"
    }
   ],
   "source": [
    "image_len = len(image_col)\n",
    "image_len"
   ]
  },
  {
   "cell_type": "code",
   "execution_count": 8,
   "id": "c9cd23c3-68f2-4ef9-9e53-968616912a6a",
   "metadata": {},
   "outputs": [
    {
     "data": {
      "text/plain": [
       "341"
      ]
     },
     "execution_count": 8,
     "metadata": {},
     "output_type": "execute_result"
    }
   ],
   "source": [
    "total_length = (image_len + link_len)\n",
    "total_length"
   ]
  },
  {
   "cell_type": "code",
   "execution_count": 9,
   "id": "f035b89b-09f9-4bbc-87e9-2776475a03f1",
   "metadata": {},
   "outputs": [],
   "source": [
    "import pandas as pd\n",
    "df = pd.DataFrame({'ID': range(0,total_length+1)})\n",
    "df['CustomValue'] = None"
   ]
  },
  {
   "cell_type": "code",
   "execution_count": 10,
   "id": "f800cc6d-a7e4-4745-96cc-7cbade8d3065",
   "metadata": {},
   "outputs": [],
   "source": [
    "final_list = []\n",
    "final_list.extend(link_col)\n",
    "final_list.extend(image_col)"
   ]
  },
  {
   "cell_type": "code",
   "execution_count": 11,
   "id": "36c7eb5d-5f7e-4d06-bf25-6d751a51c538",
   "metadata": {},
   "outputs": [],
   "source": [
    "final_type_list = []\n",
    "final_type_list.extend(link_col_type)\n",
    "final_type_list.extend(image_col_type)"
   ]
  },
  {
   "cell_type": "code",
   "execution_count": 12,
   "id": "bc7d877e-b675-43ef-bbac-83d9dacf6eed",
   "metadata": {},
   "outputs": [],
   "source": [
    "df = pd.DataFrame({'Type': final_type_list, 'Content': final_list})\n",
    "pd.options.display.max_colwidth = None"
   ]
  },
  {
   "cell_type": "code",
   "execution_count": 13,
   "id": "0655fbc4-5f11-444a-9cda-7f33a8a1f94b",
   "metadata": {},
   "outputs": [
    {
     "data": {
      "text/html": [
       "<div>\n",
       "<style scoped>\n",
       "    .dataframe tbody tr th:only-of-type {\n",
       "        vertical-align: middle;\n",
       "    }\n",
       "\n",
       "    .dataframe tbody tr th {\n",
       "        vertical-align: top;\n",
       "    }\n",
       "\n",
       "    .dataframe thead th {\n",
       "        text-align: right;\n",
       "    }\n",
       "</style>\n",
       "<table border=\"1\" class=\"dataframe\">\n",
       "  <thead>\n",
       "    <tr style=\"text-align: right;\">\n",
       "      <th></th>\n",
       "      <th>Content</th>\n",
       "    </tr>\n",
       "    <tr>\n",
       "      <th>Type</th>\n",
       "      <th></th>\n",
       "    </tr>\n",
       "  </thead>\n",
       "  <tbody>\n",
       "    <tr>\n",
       "      <th>Link</th>\n",
       "      <td>https://christuniversity.in/</td>\n",
       "    </tr>\n",
       "    <tr>\n",
       "      <th>Link</th>\n",
       "      <td>http://alumni.christuniversity.in/</td>\n",
       "    </tr>\n",
       "    <tr>\n",
       "      <th>Link</th>\n",
       "      <td>https://christuniversity.in/careers</td>\n",
       "    </tr>\n",
       "    <tr>\n",
       "      <th>Link</th>\n",
       "      <td>https://christuniversity.in/center/C/IQAC</td>\n",
       "    </tr>\n",
       "    <tr>\n",
       "      <th>Link</th>\n",
       "      <td>https://christuniversity.in/center/C/International-Students</td>\n",
       "    </tr>\n",
       "    <tr>\n",
       "      <th>...</th>\n",
       "      <td>...</td>\n",
       "    </tr>\n",
       "    <tr>\n",
       "      <th>Image</th>\n",
       "      <td>https://christuniversity.in/images/social-icons-4.png</td>\n",
       "    </tr>\n",
       "    <tr>\n",
       "      <th>Image</th>\n",
       "      <td>https://christuniversity.in/images/social-icons-5.png</td>\n",
       "    </tr>\n",
       "    <tr>\n",
       "      <th>Image</th>\n",
       "      <td>https://christuniversity.in/images/social-icons-6.png</td>\n",
       "    </tr>\n",
       "    <tr>\n",
       "      <th>Image</th>\n",
       "      <td>https://christuniversity.in/images/social-icons-7.png</td>\n",
       "    </tr>\n",
       "    <tr>\n",
       "      <th>Image</th>\n",
       "      <td>https://christuniversity.in/images/social-icons-8.png</td>\n",
       "    </tr>\n",
       "  </tbody>\n",
       "</table>\n",
       "<p>341 rows × 1 columns</p>\n",
       "</div>"
      ],
      "text/plain": [
       "                                                           Content\n",
       "Type                                                              \n",
       "Link                                  https://christuniversity.in/\n",
       "Link                            http://alumni.christuniversity.in/\n",
       "Link                           https://christuniversity.in/careers\n",
       "Link                     https://christuniversity.in/center/C/IQAC\n",
       "Link   https://christuniversity.in/center/C/International-Students\n",
       "...                                                            ...\n",
       "Image        https://christuniversity.in/images/social-icons-4.png\n",
       "Image        https://christuniversity.in/images/social-icons-5.png\n",
       "Image        https://christuniversity.in/images/social-icons-6.png\n",
       "Image        https://christuniversity.in/images/social-icons-7.png\n",
       "Image        https://christuniversity.in/images/social-icons-8.png\n",
       "\n",
       "[341 rows x 1 columns]"
      ]
     },
     "execution_count": 13,
     "metadata": {},
     "output_type": "execute_result"
    }
   ],
   "source": [
    "df.set_index('Type')"
   ]
  },
  {
   "cell_type": "code",
   "execution_count": 14,
   "id": "79d04e38-03e6-4897-ad04-2ac849228546",
   "metadata": {},
   "outputs": [],
   "source": [
    "df.to_csv('data.csv', index=False)"
   ]
  },
  {
   "cell_type": "code",
   "execution_count": null,
   "id": "43bb9650-d3d4-4779-ab5c-f8e72acfb63e",
   "metadata": {},
   "outputs": [],
   "source": []
  },
  {
   "cell_type": "code",
   "execution_count": null,
   "id": "ef84a3dc-7a35-45a5-934c-b4b0d8be84e0",
   "metadata": {},
   "outputs": [],
   "source": []
  },
  {
   "cell_type": "code",
   "execution_count": null,
   "id": "7144dbb9-b2b6-4408-b2ed-20e826f9a468",
   "metadata": {},
   "outputs": [],
   "source": []
  }
 ],
 "metadata": {
  "kernelspec": {
   "display_name": "Python 3 (ipykernel)",
   "language": "python",
   "name": "python3"
  },
  "language_info": {
   "codemirror_mode": {
    "name": "ipython",
    "version": 3
   },
   "file_extension": ".py",
   "mimetype": "text/x-python",
   "name": "python",
   "nbconvert_exporter": "python",
   "pygments_lexer": "ipython3",
   "version": "3.12.4"
  }
 },
 "nbformat": 4,
 "nbformat_minor": 5
}
