{
  "nbformat": 4,
  "nbformat_minor": 0,
  "metadata": {
    "colab": {
      "provenance": []
    },
    "kernelspec": {
      "name": "python3",
      "display_name": "Python 3"
    },
    "language_info": {
      "name": "python"
    }
  },
  "cells": [
    {
      "cell_type": "markdown",
      "source": [
        "# Creating a Soup Element and getting all the data"
      ],
      "metadata": {
        "id": "TqfqA-qqfTKs"
      }
    },
    {
      "cell_type": "code",
      "execution_count": 1,
      "metadata": {
        "id": "bkOOV7nwe6fg"
      },
      "outputs": [],
      "source": [
        "# importing libraries\n",
        "import requests\n",
        "from bs4 import BeautifulSoup"
      ]
    },
    {
      "cell_type": "code",
      "source": [
        "# declaring url to scrape the data from\n",
        "url = \"https://christuniversity.in\""
      ],
      "metadata": {
        "id": "dWRHo-pDfB8B"
      },
      "execution_count": 2,
      "outputs": []
    },
    {
      "cell_type": "code",
      "source": [
        "# scraping the data from the website\n",
        "response = requests.get(url)"
      ],
      "metadata": {
        "collapsed": true,
        "id": "wWfmR6EDfhik"
      },
      "execution_count": 3,
      "outputs": []
    },
    {
      "cell_type": "code",
      "source": [
        "# creating the soup element\n",
        "soup = BeautifulSoup(response.text, 'html.parser')"
      ],
      "metadata": {
        "id": "M33XgXN4gTSh"
      },
      "execution_count": 4,
      "outputs": []
    },
    {
      "cell_type": "markdown",
      "source": [
        "# Finding the desired output using soup and pandas library"
      ],
      "metadata": {
        "id": "BIXL3QDmgfAz"
      }
    },
    {
      "cell_type": "code",
      "source": [
        "# Gathering all the link ('a') tags available in the website\n",
        "links = soup.find_all('a')\n",
        "print(f\"Number of links: {len(links)}\")\n",
        "for link in links:\n",
        "    print(link.get('href'))"
      ],
      "metadata": {
        "colab": {
          "base_uri": "https://localhost:8080/"
        },
        "collapsed": true,
        "id": "YJ4G7goKgfPh",
        "outputId": "8fd3353d-9c03-4a53-d4f1-0b9d8b6cda9a"
      },
      "execution_count": 5,
      "outputs": [
        {
          "output_type": "stream",
          "name": "stdout",
          "text": [
            "Number of links: 258\n",
            "https://christuniversity.in/\n",
            "http://alumni.christuniversity.in/\n",
            "https://christuniversity.in/careers\n",
            "https://christuniversity.in/center/C/IQAC\n",
            "https://christuniversity.in/center/C/International-Students\n",
            "https://christuniversity.in/center\n",
            "https://christuniversity.in/naac-menu/main%20campus/general%20departments/accreditation/ODUzNQ==\n",
            "https://christuniversity-in.translate.goog/?_x_tr_sl=auto&_x_tr_tl=kn&_x_tr_hl=en&_x_tr_pto=wapp\n",
            "#\n",
            "#\n",
            "https://christuniversity.in/history\n",
            "https://christuniversity.in/logo-and-anthem\n",
            "https://christuniversity.in/founder\n",
            "https://christuniversity.in/vision\n",
            "https://christuniversity.in/vc\n",
            "https://christuniversity.in/graduate-attributes\n",
            "https://christuniversity.in/administration\n",
            "https://christuniversity.in/governance\n",
            "https://christuniversity.in/disclosures\n",
            "https://christuniversity.in/articles-by-faculty-in-media\n",
            "https://christuniversity.in/recognitions-and-awards\n",
            "https://christuniversity.in/nep-at-christ-(deemed-to-be-university)\n",
            "https://christuniversity.in/view-pdf/international-academic-collaborations\n",
            "https://christuniversity.in/accreditation-ranking-status\n",
            "javascript:void()\n",
            "https://christuniversity.in/departments/bangalore%20kengeri%20campus/school%20of%20architecture/school%20of%20architecture\n",
            "https://christuniversity.in/academics/Main-Campus/school-of-arts-and-humanities\n",
            "https://christuniversity.in/academics/Main-Campus/school-of-business-and-management\n",
            "https://christuniversity.in/academics/Main-Campus/school-of-commerce,-finance-and-accountancy\n",
            "https://christuniversity.in/departments/main campus/school of education/school of education\n",
            "https://christuniversity.in/academics/Bangalore-Kengeri-Campus/school-of-engineering-and-technology\n",
            "https://christuniversity.in/departments/main%20campus/school%20of%20law/school%20of%20law\n",
            "https://christuniversity.in/academics//school-of-psychological-sciences\n",
            "https://christuniversity.in/academics/Main-Campus/school-of-sciences\n",
            "https://christuniversity.in/academics/Main-Campus/school-of-social-sciences\n",
            "#\n",
            "https://christuniversity.in/view-pdf/research-conduct-and-ethics-guidelines-for-faculty-and-departments\n",
            "https://christuniversity.in/view-pdf/research-promotion-policy\n",
            "https://christuniversity.in/center/O/CR\n",
            "https://christuniversity.in/uploads/cmsmenu/IRB_Application(Faculty)_20210811033600.docx\n",
            "https://christuniversity.in/uploads/cmsmenu/IRB_Application (Students)_20210222044630.docx\n",
            "https://christuniversity.in/center/O/IPRC/statistics\n",
            "https://christuniversity.in/center/O/IPRC/copyrightdetails\n",
            "https://christuniversity.in/workshops-and-seminars\n",
            "https://christuniversity.in/center/C/Research-and-Development-Cell\n",
            "https://christuniversity.in/central-instrumentation-facility\n",
            "#\n",
            "https://christuniversity.in/view-pdf/christite2023\n",
            "https://christuniversity.in/view-pdf/academic-calendar-2024-25\n",
            "https://christuniversity.in/view-pdf/faq\n",
            "https://christuniversity.in/covid19-guidelines-for-students-of-bangalore-campuses\n",
            "https://christuniversity.in/center/C/hs/peer-education\n",
            "https://christuniversity.in/view-pdf/student-handbook-2024-25\n",
            "https://christuniversity.in/counsellors-details\n",
            "https://christuniversity.in/grievance-redressal\n",
            "https://christuniversity.in/curegulationsonsubstanceabuse\n",
            "https://christuniversity.in/internal-complaints-committee\n",
            "https://christuniversity.in/anti-ragging-cell\n",
            "https://christuniversity.in/s-l-equal-opportunity-cell\n",
            "https://christuniversity.in/s-l-internal-committee-for-differently-abled\n",
            "https://christuniversity.in/doctors-desk\n",
            "https://christuniversity.in/center/C/Scholarship-and-Fellowship-Support-Cell\n",
            "https://christuniversity.in/student-life/main-campus/hostel-and-dining\n",
            "https://christuniversity.in/alumni-certificate-request-procedure\n",
            "https://christuniversity.in/notices\n",
            "https://christuniversity.in/view-pdf/approval-to-conduct-research-in-the-campus\n",
            "https://christuniversity.in/view-pdf/safety-and-security-of-students-on-campus\n",
            "https://christuniversity.in/code-of-conduct-for-students\n",
            "https://christuniversity.in/center/C/Sports%20and%20Games\n",
            "https://christuniversity.in/center/C/CPCG\n",
            "https://christuniversity.in/center\n",
            "https://christuniversity.in/counsellor-health-services\n",
            "#\n",
            "http://192.168.100.100:8090\n",
            "https://kp.christuniversity.in/KnowledgePro/StudentLogin.do\n",
            "https://kp.christuniversity.in/KnowledgePro/Login.do\n",
            "http://library.christuniversity.in/home.php#home\n",
            "https://christuniversity.in/student-web-mail\n",
            "https://accounts.google.com/ServiceLogin?continue=https%3A%2F%2Fmail.google.com%2Fmail%2F<mpl=default&service=mail&sacu=1&hd=christuniversity.in#identifier\n",
            "https://courses.christuniversity.in/login/index.php\n",
            "https://christuniversity.in/e-services-online-payment-portal\n",
            "https://christuniversity.in/nad\n",
            "https://christuniversity.in/academic-bank-of-credits\n",
            "https://samadhaan.ugc.ac.in/\n",
            "http://decibel.christuniversity.in/\n",
            "https://christuniversity.in/it-regulations\n",
            "https://christuniversity.in/ssl-certificates\n",
            "#\n",
            "https://christuniversity.in/bangalore-central-campus\n",
            "https://christuniversity.in/bangalore-bannerghatta-road-campus\n",
            "https://christuniversity.in/bangalore-kengeri-campus\n",
            "https://christuniversity.in/bangalore-yeshwanthpur-campus\n",
            "https://christuniversity.in/delhi-ncr-campus\n",
            "https://christuniversity.in/pune-lavasa-campus\n",
            "#\n",
            "https://christuniversity.in/how-to-reach-christ-university\n",
            "https://christuniversity.in/how-to-reach-christ-kengeri-campus\n",
            "https://christuniversity.in/how-to-reach-christ-bannerghatta-road-campus\n",
            "https://christuniversity.in/how-to-reach-bangalore-yeshwanthpur-campus\n",
            "https://lavasa.christuniversity.in/how-to-reach-pune-lavasa-campus\n",
            "https://ncr.christuniversity.in/how-to-reach-ncr-campus\n",
            "https://christuniversity.in/bangalore-guide\n",
            "https://christuniversity.in/noteoncurriculum-and-credit-framework-for-undergraduate-programmes\n",
            "https://christuniversity.in/admission-all\n",
            "https://christuniversity.in/cbcs-masters-programme\n",
            "https://christuniversity.in/center/O/CR\n",
            "https://christuniversity.in/2024-mba-admission-process\n",
            "https://christuniversity.in/2024-ugpg-sp\n",
            "https://christuniversity.in/application-queries\n",
            "https://christuniversity.in/view-pdf/cancellation1\n",
            "https://christuniversity.in/applyonline\n",
            "https://christuniversity.in/center/C/International-Students\n",
            "https://www.facebook.com/www.christuniversity.in/\n",
            "https://twitter.com/christbangalore\n",
            "http://christbangalore.blogspot.com/\n",
            "https://www.youtube.com/thechristuniversity\n",
            "https://play.google.com/store/apps/developer?id=Christ+University\n",
            "https://www.flickr.com/photos/christuniversity/albums\n",
            "https://www.instagram.com/christ_university_bangalore/\n",
            "https://in.linkedin.com/school/christ-university-bangalore/\n",
            "https://christuniversity.in/view-pdf/nirf-ranking-2024\n",
            "https://christuniversity.in/view-pdf/admissions-2024-architecture\n",
            "https://christuniversity.in/view-pdf/indiatodayrankings2024\n",
            "https://christuniversity.in/view-pdf/times-higher-education-impact-ranking-2024\n",
            "https://christuniversity.in/view-pdf/week-hansa\n",
            "https://christuniversity.in/view-pdf/wuri\n",
            "https://christuniversity.in/view-pdf/economic-times-:-education-excellence-awards-2024\n",
            "https://christuniversity.in/center/O/CR\n",
            "https://christuniversity.in/noteoncurriculum-and-credit-framework-for-undergraduate-programmes\n",
            "https://christuniversity.in/biotechnology-ignition-grant\n",
            "#\n",
            "https://christuniversity.in/campus/Bangalore Bannerghatta Road Campus\n",
            "https://christuniversity.in/campus/Bangalore Kengeri Campus\n",
            "https://christuniversity.in/campus/Yeshwanthpur Campus\n",
            "http://ncr.christuniversity.in\n",
            "https://lavasa.christuniversity.in/\n",
            "https://christuniversity.in/all-courses\n",
            "https://christuniversity.in/student-life/main-campus/campus-life\n",
            "https://christuniversity.in/student-life/main-campus/hostel-and-dining\n",
            "http://library.christuniversity.in/home.php#home\n",
            "https://christuniversity.in/center/C/NCC-BCC\n",
            "https://christuniversity.in/center/C/Sports%20and%20Games\n",
            "https://christuniversity.in/center/C/CPCG\n",
            "https://christuniversity.in/center/O/CONSULTING\n",
            "https://christuniversity.in/center/C/hs/health-centre\n",
            "https://christuniversity.in/office-of-examinations\n",
            "https://christuniversity.in/support-and-assistance/main-campus/students-council\n",
            "https://christuniversity.in/center\n",
            "https://christuniversity.in/center/C/VWCN/tell-a-tale\n",
            "https://christuniversity.in/center/C/VWCN/fame-to-frame\n",
            "https://christuniversity.in/center/C/VWCN/lore-to-lure\n",
            "https://christuniversity.in/center/C/VWCN/metamorphosis\n",
            "https://christuniversity.in/center/C/VWCN/raconteur\n",
            "#\n",
            "#\n",
            "#\n",
            "#\n",
            "#\n",
            "#\n",
            "#\n",
            "#\n",
            "#\n",
            "#\n",
            "#\n",
            "#\n",
            "#\n",
            "None\n",
            "None\n",
            "None\n",
            "None\n",
            "None\n",
            "None\n",
            "None\n",
            "None\n",
            "None\n",
            "None\n",
            "#\n",
            "#\n",
            "#tab_a0\n",
            "#tab_a1\n",
            "#tab_a2\n",
            "#tab_a3\n",
            "#tab_a4\n",
            "#tab_a5\n",
            "http://journals.christuniversity.in\n",
            "https://christuniversity.in/christite\n",
            "https://christuniversity.in/accoladechronicles\n",
            "https://christuniversity.in/events\n",
            "#tab4default\n",
            "#tab1default\n",
            "#tab2default\n",
            "#tab3default\n",
            "#\n",
            "https://christuniversity.in/events/MTYwMjA=\n",
            "https://christuniversity.in/events/MTU5NTk=\n",
            "https://christuniversity.in/events/MTYwMTU=\n",
            "https://christuniversity.in/events/MTYwMTQ=\n",
            "https://christuniversity.in/events/MTU5ODE=\n",
            "https://christuniversity.in/events/MTYwMDI=\n",
            "https://christuniversity.in/events/MTU5ODE=\n",
            "https://christuniversity.in/events/MTYwMDI=\n",
            "https://christuniversity.in/events/MTYwMjA=\n",
            "https://christuniversity.in/events/MTU5NTk=\n",
            "https://christuniversity.in/events\n",
            "https://christuniversity.in/center/C/International-Students\n",
            "https://christuniversity.in/gallery\n",
            "#tab1\n",
            "#tab2\n",
            "\n",
            "\n",
            "\n",
            "\n",
            "\n",
            "\n",
            "\n",
            "\n",
            "#\n",
            "#\n",
            "#\n",
            "#\n",
            "#\n",
            "#\n",
            "#\n",
            "#\n",
            "https://christuniversity.in/gallery\n",
            "https://christuniversity.in/view-pdf/economic-times-:-education-excellence-awards-2024\n",
            "https://christuniversity.in/view-pdf/wuri\n",
            "https://christuniversity.in/view-pdf/week-hansa\n",
            "https://christuniversity.in/view-pdf/times-higher-education-impact-ranking-2024\n",
            "https://christuniversity.in/uploads/userfiles/ranking.jpg\n",
            "https://christuniversity.in/uploads/userfiles/nirf_2024.pdf\n",
            "https://christuniversity.in/uploads/userfiles/NBA%20accreditation.pdf#brd-crmp-depp\n",
            "https://christuniversity.in/uploads/userfiles/unai.pdf\n",
            "https://christuniversity.in/uploads/userfiles/CHRIST%20SES%20REC%20CERTIFICATE%20(1)(1)(1).pdf\n",
            "https://christuniversity.in/uploads/userfiles/UBA%20Poster.pdf\n",
            "https://christuniversity.in/uploads/userfiles/naacextension.pdf\n",
            "https://www.facebook.com/www.christuniversity.in/?modal=admin_todo_tour\n",
            "https://twitter.com/christbangalore\n",
            "http://christbangalore.blogspot.com/\n",
            "https://www.youtube.com/thechristuniversity\n",
            "https://play.google.com/store/apps/developer?id=Christ+University\n",
            "https://www.flickr.com/photos/christuniversity/albums\n",
            "https://www.instagram.com/christ_university_bangalore/\n",
            "https://in.linkedin.com/school/christ-university-bangalore\n",
            "https://christuba.wordpress.com/\n",
            "https://christuniversity.in/fcra\n",
            "https://alumni.christuniversity.in/\n",
            "https://christuniversity.in/center/C/IQAC\n",
            "https://espro.christuniversity.in/Careers/\n",
            "http://library.christuniversity.in/\n",
            "https://christuniversity.in/center\n",
            "https://christuniversity.in/center/O/CR\n",
            "https://christuniversity.in/admission-all\n",
            "https://christuniversity.in/all-courses\n",
            "https://christuniversity.in/privacy-policy\n",
            "http://cloudbusinesspages.com\n",
            "http://initechnologies.com\n",
            "#\n"
          ]
        }
      ]
    },
    {
      "cell_type": "code",
      "source": [
        "# Gathering all the image ('img') tags available in the website\n",
        "images = soup.find_all('img')\n",
        "print(f\"Number of images: {len(images)}\")\n",
        "for image in images:\n",
        "    print(image.get('src'))"
      ],
      "metadata": {
        "colab": {
          "base_uri": "https://localhost:8080/"
        },
        "collapsed": true,
        "id": "kaHM-YTFhSjR",
        "outputId": "55f48145-461f-4ae2-bbb5-999fc382c402"
      },
      "execution_count": 6,
      "outputs": [
        {
          "output_type": "stream",
          "name": "stdout",
          "text": [
            "Number of images: 169\n",
            "https://christuniversity.in/images/logo.jpg\n",
            "https://christuniversity.in/images/kannada.jpg\n",
            "https://christuniversity.in/uploads/campus/medium/1546275337_2020-12-05_12-14-28.jpg\n",
            "https://christuniversity.in/uploads/campus/medium/1656383149_2020-12-05_12-15-03.jpg\n",
            "https://christuniversity.in/uploads/campus/medium/1850061447_2020-12-05_12-15-59.jpg\n",
            "https://christuniversity.in/uploads/campus/medium/1453155785_2023-08-17_12-25-20.jpg\n",
            "https://christuniversity.in/uploads/campus/medium/524190754_2020-12-05_12-16-11.jpg\n",
            "https://christuniversity.in/uploads/campus/medium/1370604313_2023-06-15_11-54-29.jpg\n",
            "https://christuniversity.in/uploads/studentlife/thumb/campus-life_20240516121709..jpg\n",
            "https://christuniversity.in/uploads/studentlife/thumb/img2_20230327020428..jpg\n",
            "https://christuniversity.in/uploads/studentlife/thumb/library_20240516122412..jpg\n",
            "https://christuniversity.in/uploads/studentlife/thumb/ncc_20240516115953..jpg\n",
            "https://christuniversity.in/uploads/studentlife/thumb/sports-and-games_20240516123348..jpg\n",
            "https://christuniversity.in/uploads/aupportasistance/thumb/place_20230921045710..png\n",
            "https://christuniversity.in/uploads/aupportasistance/thumb/pro_support_20201201121549..png\n",
            "https://christuniversity.in/uploads/aupportasistance/thumb/medical_20201201125556..png\n",
            "https://christuniversity.in/uploads/aupportasistance/thumb/exam111_20201205042613..jpg\n",
            "https://christuniversity.in/uploads/aupportasistance/thumb/exam_test_20201201124657..png\n",
            "https://christuniversity.in/uploads/aupportasistance/thumb/cen_test_20201201011201..png\n",
            "images/telltale@2x.png\n",
            "images/fameframe@2x.png\n",
            "images/lorelure@2x.png\n",
            "images/meta@2x.png\n",
            "images/reco@2x.png\n",
            "https://christuniversity.in/uploads/news/thumb/Dalai Lama  DSC_0195.JPG\n",
            "https://christuniversity.in/uploads/news/thumb/G. Madhavan Nair DSC_1025.JPG\n",
            "https://christuniversity.in/uploads/news/thumb/2016-17 BGR Audi Inaug ARP_4387.JPG\n",
            "https://christuniversity.in/uploads/news/thumb/DSC_6287 New 1 (2).jpg\n",
            "https://christuniversity.in/uploads/news/thumb/43402503171_e88bd26c20_o.jpg\n",
            "https://christuniversity.in/uploads/news/thumb/as.jpg\n",
            "https://christuniversity.in/uploads/news/thumb/Abdul Kalam Visit CU 28-09-2007 DSC_0593.JPG\n",
            "https://christuniversity.in/uploads/news/thumb/Untitled-1 copy.jpg\n",
            "https://christuniversity.in/uploads/news/thumb/mym.JPG\n",
            "https://christuniversity.in/uploads/news/thumb/CCD01036.JPG\n",
            "https://christuniversity.in/uploads/news/thumb/_DSC0628 New.jpg\n",
            "https://christuniversity.in/uploads/news/thumb/DSC_5233.JPG\n",
            "https://christuniversity.in/uploads/news/thumb/15979989803_4e4687a206_o.jpg\n",
            "None\n",
            "https://christuniversity.in/images/prof-1.jpg\n",
            "https://christuniversity.in/uploads/distinguishedandalumni/medium/jugnufinal_20230320013050..jpg\n",
            "https://christuniversity.in/uploads/distinguishedandalumni/medium/ravifinal_20230320121958..jpg\n",
            "https://christuniversity.in/uploads/distinguishedandalumni/medium/Kirshnakumarfinal_20230320122802..jpg\n",
            "https://christuniversity.in/uploads/distinguishedandalumni/medium/jagadeesh1-removebg-preview_20230320123056..png\n",
            "https://christuniversity.in/uploads/distinguishedandalumni/medium/syedaa-removebg-preview_20230320123552..png\n",
            "https://christuniversity.in/uploads/distinguishedandalumni/medium/haresht-removebg-preview_20230320124254..png\n",
            "https://christuniversity.in/uploads/distinguishedandalumni/medium/nupur2-removebg-preview_20230320125219..png\n",
            "https://christuniversity.in/uploads/distinguishedandalumni/medium/Abdullah_Rasheed22-removebg-preview_20230320125602..png\n",
            "https://christuniversity.in/uploads/distinguishedandalumni/medium/vishwakumar-removebg-preview_20230320012918..png\n",
            "https://christuniversity.in/uploads/distinguishedandalumni/medium/kuruvillacherian-removebg-preview_20230320013449..png\n",
            "https://christuniversity.in/uploads/distinguishedandalumni/medium/yateesh-removebg-preview_20230320014050..png\n",
            "https://christuniversity.in/uploads/distinguishedandalumni/medium/gautham1-removebg-preview_20230320031242..png\n",
            "https://christuniversity.in/uploads/distinguishedandalumni/medium/andrew_20230320031719..jpg\n",
            "https://christuniversity.in/uploads/distinguishedandalumni/medium/avinash-removebg-preview_20230320032101..png\n",
            "https://christuniversity.in/uploads/distinguishedandalumni/medium/sudhir-removebg-preview_20230320032408..png\n",
            "https://christuniversity.in/uploads/distinguishedandalumni/medium/mallikarjuna-removebg-preview_20230320033210..png\n",
            "https://christuniversity.in/uploads/distinguishedandalumni/medium/swethasastri-removebg-preview_20230320033935..png\n",
            "https://christuniversity.in/uploads/distinguishedandalumni/medium/madonna1-removebg-preview_20230320034947..png\n",
            "https://christuniversity.in/uploads/distinguishedandalumni/medium/bruceleemani1-removebg-preview_20230320035506..png\n",
            "https://christuniversity.in/uploads/distinguishedandalumni/medium/sanjaysand-removebg-preview_20230320035756..png\n",
            "https://christuniversity.in/uploads/distinguishedandalumni/medium/ajithnayar-removebg-preview_20230320040503..png\n",
            "https://christuniversity.in/uploads/distinguishedandalumni/medium/babucj-removebg-preview_20230321093355..png\n",
            "https://christuniversity.in/uploads/distinguishedandalumni/medium/krishnabyregowda1-removebg-preview_20230321093410..png\n",
            "https://christuniversity.in/uploads/distinguishedandalumni/medium/bhuvan1-removebg-preview_20230321100714..png\n",
            "https://christuniversity.in/uploads/distinguishedandalumni/medium/sruthihariharan-removebg-preview_20230321101535..png\n",
            "https://christuniversity.in/uploads/distinguishedandalumni/medium/samhornad-removebg-preview_20230321105545..png\n",
            "https://christuniversity.in/uploads/distinguishedandalumni/medium/yogeshb-removebg-preview_20230321105904..png\n",
            "https://christuniversity.in/uploads/distinguishedandalumni/medium/gaurav-removebg-preview_20230321110245..png\n",
            "https://christuniversity.in/uploads/distinguishedandalumni/medium/amulya-removebg-preview(1)_20230321123703..png\n",
            "https://christuniversity.in/uploads/distinguishedandalumni/medium/niranjan_20230321124117..jpg\n",
            "https://christuniversity.in/uploads/distinguishedandalumni/medium/dhanyask-removebg-preview_20230321125915..png\n",
            "https://christuniversity.in/uploads/distinguishedandalumni/medium/mohammedzahrian1_20230321125049..png\n",
            "https://christuniversity.in/uploads/distinguishedandalumni/medium/parinika-removebg-preview_20230321125858..png\n",
            "https://christuniversity.in/uploads/distinguishedandalumni/medium/rajeev1-removebg-preview_20230321010619..png\n",
            "https://christuniversity.in/uploads/distinguishedandalumni/medium/kethan-removebg-preview_20230321011153..png\n",
            "https://christuniversity.in/uploads/distinguishedandalumni/medium/georgepothan1-removebg-preview_20230321011731..png\n",
            "https://christuniversity.in/uploads/distinguishedandalumni/medium/josethomas1-removebg-preview_20230321013449..png\n",
            "https://christuniversity.in/uploads/distinguishedandalumni/medium/madhukeshwardesai_20230321014115..jpg\n",
            "https://christuniversity.in/uploads/distinguishedandalumni/medium/shilpineha-removebg-preview_20230321014736..png\n",
            "https://christuniversity.in/uploads/distinguishedandalumni/medium/chaithanyakm-removebg-preview_20230321015406..png\n",
            "https://christuniversity.in/uploads/distinguishedandalumni/medium/shilpanag1-removebg-preview_20230321020723..png\n",
            "https://christuniversity.in/uploads/distinguishedandalumni/medium/lucasthomas-removebg-preview_20230321021345..png\n",
            "https://christuniversity.in/uploads/distinguishedandalumni/medium/joeltv1-removebg-preview_20230321032843..png\n",
            "https://christuniversity.in/uploads/distinguishedandalumni/medium/samifaizulla-removebg-preview_20230321033343..png\n",
            "https://christuniversity.in/uploads/distinguishedandalumni/medium/FouziaTaranum-removebg-preview_20230321033926..png\n",
            "https://christuniversity.in/uploads/distinguishedandalumni/medium/kfrancisgeorge1-removebg-preview_20230321035009..png\n",
            "https://christuniversity.in/uploads/distinguishedandalumni/medium/mnredd2i_20230321040911..jpg\n",
            "https://christuniversity.in/uploads/distinguishedandalumni/medium/crrisyanth_20230321041026..jpg\n",
            "https://christuniversity.in/uploads/distinguishedandalumni/medium/SRIRAM SULIA_20221006052911..jpg\n",
            "https://christuniversity.in/uploads/distinguishedandalumni/medium/puneetkk_20230321043401..jpg\n",
            "https://christuniversity.in/uploads/distinguishedandalumni/medium/supriyalohi1t-removebg-preview(1)_20230321044343..png\n",
            "https://christuniversity.in/uploads/distinguishedandalumni/medium/srinaths1-removebg-preview_20230323103006..png\n",
            "https://christuniversity.in/uploads/distinguishedandalumni/medium/trishikawadiyar-removebg-preview_20230323105132..png\n",
            "https://christuniversity.in/uploads/distinguishedandalumni/medium/MADAN KUMAR_20221006054350..jpg\n",
            "https://christuniversity.in/uploads/distinguishedandalumni/medium/NEHA CADABAM_20221006054553..jpg\n",
            "https://christuniversity.in/uploads/distinguishedandalumni/medium/karanmachado-removebg-preview_20230323014159..png\n",
            "https://christuniversity.in/uploads/distinguishedandalumni/medium/monicajain-removebg-preview_20230323014431..png\n",
            "https://christuniversity.in/uploads/distinguishedandalumni/medium/poojachabria1-removebg-preview_20230323010111..png\n",
            "https://christuniversity.in/uploads/distinguishedandalumni/medium/ruben_20230323011028..jpg\n",
            "https://christuniversity.in/uploads/distinguishedandalumni/medium/kalmeshwar1_20230323011543..jpg\n",
            "https://christuniversity.in/uploads/distinguishedandalumni/medium/pradeepjohn1-removebg-preview_20230323012242..png\n",
            "https://christuniversity.in/uploads/distinguishedandalumni/medium/anirudh-removebg-preview_20230323012540..png\n",
            "https://christuniversity.in/uploads/distinguishedandalumni/medium/CHOCKO_VALLIAPPAa-removebg-preview_20230323013430..png\n",
            "https://christuniversity.in/uploads/distinguishedandalumni/medium/anthonyhuang-removebg-preview_20230323013734..png\n",
            "https://christuniversity.in/uploads/distinguishedandalumni/medium/nehacadabam1-removebg-preview_20230323125305..png\n",
            "https://christuniversity.in/uploads/campus/large/2059262450_2024-05-16_01-18-44.jpg\n",
            "https://christuniversity.in/uploads/campus/large/146353278_2024-05-16_01-02-38.jpg\n",
            "https://christuniversity.in/uploads/campus/large/142593266_2024-05-16_01-39-55.jpg\n",
            "https://christuniversity.in/uploads/campus/large/2012016161_2023-04-03_09-19-58.jpg\n",
            "https://christuniversity.in/uploads/campus/large/1530061857_2024-05-16_01-21-49.jpg\n",
            "https://christuniversity.in/uploads/campus/large/358171444_2024-05-16_01-36-20.jpg\n",
            "https://christuniversity.in/images/event_1.jpg\n",
            "https://christuniversity.in/images/event_2.jpg\n",
            "https://christuniversity.in/images/event_3.jpg\n",
            "https://christuniversity.in/images/event_4.jpg\n",
            "https://christuniversity.in/images/event_1.jpg\n",
            "https://christuniversity.in/images/event_2.jpg\n",
            "https://christuniversity.in/images/event_1.jpg\n",
            "https://christuniversity.in/images/event_2.jpg\n",
            "https://christuniversity.in/images/event_3.jpg\n",
            "https://christuniversity.in/images/event_4.jpg\n",
            "https://christuniversity.in/uploads/international/medium/Untitled design_20230913123053..jpg\n",
            "https://christuniversity.in/uploads/international/medium/is2_20240816013523..jpg\n",
            "https://christuniversity.in/uploads/international/medium/is1_20240816012534..jpg\n",
            "https://christuniversity.in/uploads/international/medium/1_20230913123242..jpg\n",
            "https://christuniversity.in/uploads/photogallery/large/2131050343_2024-05-16_10-04-47.jpg\n",
            "https://christuniversity.in/uploads/photogallery/large/1921252098_2024-05-16_12-30-09.jpg\n",
            "https://christuniversity.in/uploads/photogallery/large/509365530_2024-05-16_10-30-50.jpg\n",
            "https://christuniversity.in/uploads/photogallery/large/414274337_2024-05-16_11-47-30.jpg\n",
            "https://christuniversity.in/uploads/photogallery/large/1831743607_2024-05-16_10-06-00.jpg\n",
            "https://christuniversity.in/uploads/photogallery/large/188428814_2024-05-16_10-07-19.jpg\n",
            "https://christuniversity.in/uploads/photogallery/large/211507886_2024-05-16_10-22-42.jpg\n",
            "https://christuniversity.in/uploads/photogallery/large/583237234_2024-05-16_11-47-14.jpg\n",
            "images/video-icon3.png\n",
            "https://christuniversity.in/uploads/video/thumb/1341350984_2023-01-30_01-02-54.jpg\n",
            "images/video-icon3.png\n",
            "https://christuniversity.in/uploads/video/thumb/1871598372_2021-02-10_01-25-38.jpg\n",
            "images/video-icon3.png\n",
            "https://christuniversity.in/uploads/video/thumb/151338434_2021-02-10_01-22-49.jpg\n",
            "images/video-icon3.png\n",
            "https://christuniversity.in/uploads/video/thumb/553991252_2021-02-10_01-18-58.jpg\n",
            "images/video-icon3.png\n",
            "https://christuniversity.in/uploads/video/thumb/1219167595_2021-01-28_11-23-35.png\n",
            "images/video-icon3.png\n",
            "https://christuniversity.in/uploads/video/thumb/1019210682_2021-01-28_10-43-59.png\n",
            "images/video-icon3.png\n",
            "https://christuniversity.in/uploads/video/thumb/711209058_2021-01-28_10-15-11.png\n",
            "images/video-icon3.png\n",
            "https://christuniversity.in/uploads/video/thumb/223745836_2021-01-28_10-10-17.png\n",
            "https://christuniversity.in/uploads/ourachievements/medium/law_20231104011238..jpg\n",
            "https://christuniversity.in/uploads/ourachievements/medium/IMG-20231015-WA0059_20231104010014..jpg\n",
            "https://christuniversity.in/uploads/satisticsdetails/banner/2122370753_2024-06-21_03-36-46.jpg\n",
            "https://christuniversity.in/uploads/satisticsdetails/banner/531687619_2024-06-21_03-34-51.jpg\n",
            "https://christuniversity.in/uploads/satisticsdetails/banner/853201652_2024-06-21_03-31-36.jpg\n",
            "https://christuniversity.in/uploads/satisticsdetails/banner/10015910_2024-06-21_03-30-03.png\n",
            "https://christuniversity.in/uploads/satisticsdetails/banner/383049954_2023-10-05_03-02-27.jpg\n",
            "https://christuniversity.in/uploads/satisticsdetails/banner/1604327077_2022-07-18_10-08-41.jpg\n",
            "https://christuniversity.in/uploads/satisticsdetails/banner/606547074_2022-06-20_10-47-15.jpg\n",
            "https://christuniversity.in/uploads/satisticsdetails/banner/1533071251_2022-06-17_04-38-38.jpg\n",
            "https://christuniversity.in/uploads/satisticsdetails/banner/427300059_2022-06-17_04-34-15.jpg\n",
            "https://christuniversity.in/uploads/satisticsdetails/banner/1165203809_2022-06-17_04-28-24.jpg\n",
            "https://christuniversity.in/uploads/satisticsdetails/banner/1285361129_2022-06-17_04-04-29.jpg\n",
            "https://christuniversity.in/images/social-icons-1.png\n",
            "https://christuniversity.in/images/social-icons-2.png\n",
            "https://christuniversity.in/images/social-icons-3.png\n",
            "https://christuniversity.in/images/social-icons-4.png\n",
            "https://christuniversity.in/images/social-icons-5.png\n",
            "https://christuniversity.in/images/social-icons-6.png\n",
            "https://christuniversity.in/images/social-icons-7.png\n",
            "https://christuniversity.in/images/social-icons-8.png\n"
          ]
        }
      ]
    },
    {
      "cell_type": "code",
      "source": [
        "# importing pandas library for storing the output in a tabular form\n",
        "import pandas as pd"
      ],
      "metadata": {
        "id": "umX_vkeOhgYL"
      },
      "execution_count": 7,
      "outputs": []
    },
    {
      "cell_type": "code",
      "source": [
        "# Creating DataFrame using the pandas library\n",
        "df = pd.DataFrame(columns=['Link Type', 'URL'])"
      ],
      "metadata": {
        "id": "sShdUe3rkV61"
      },
      "execution_count": 8,
      "outputs": []
    },
    {
      "cell_type": "code",
      "source": [
        "# Adding the values into the dataframe\n",
        "for link in links:\n",
        "    df = df._append({'Link Type': 'Link', 'URL': link.get('href')}, ignore_index=True)\n",
        "\n",
        "for image in images:\n",
        "    df = df._append({'Link Type': 'Image', 'URL': image.get('src')}, ignore_index=True)\n",
        "\n",
        "print(df)"
      ],
      "metadata": {
        "colab": {
          "base_uri": "https://localhost:8080/"
        },
        "id": "-57ibtDKtTv-",
        "outputId": "f6f7d575-fe20-46e3-da85-7c3d5ea8d2ec"
      },
      "execution_count": 9,
      "outputs": [
        {
          "output_type": "stream",
          "name": "stdout",
          "text": [
            "    Link Type                                                URL\n",
            "0        Link                       https://christuniversity.in/\n",
            "1        Link                 http://alumni.christuniversity.in/\n",
            "2        Link                https://christuniversity.in/careers\n",
            "3        Link          https://christuniversity.in/center/C/IQAC\n",
            "4        Link  https://christuniversity.in/center/C/Internati...\n",
            "..        ...                                                ...\n",
            "422     Image  https://christuniversity.in/images/social-icon...\n",
            "423     Image  https://christuniversity.in/images/social-icon...\n",
            "424     Image  https://christuniversity.in/images/social-icon...\n",
            "425     Image  https://christuniversity.in/images/social-icon...\n",
            "426     Image  https://christuniversity.in/images/social-icon...\n",
            "\n",
            "[427 rows x 2 columns]\n"
          ]
        }
      ]
    },
    {
      "cell_type": "code",
      "source": [
        "# removing all the null values from the dataframe\n",
        "df.dropna(inplace=True)"
      ],
      "metadata": {
        "id": "RxW1QTLJnuH6"
      },
      "execution_count": 10,
      "outputs": []
    },
    {
      "cell_type": "code",
      "source": [
        "# removing all the values that is not a link or a src\n",
        "df = df[df['URL'].str.startswith(\"https://\")]\n",
        "print(df)"
      ],
      "metadata": {
        "colab": {
          "base_uri": "https://localhost:8080/"
        },
        "id": "lXVUnZTRlwW2",
        "outputId": "ad8d4fbd-8e77-4410-e0be-f198c8559998"
      },
      "execution_count": 11,
      "outputs": [
        {
          "output_type": "stream",
          "name": "stdout",
          "text": [
            "    Link Type                                                URL\n",
            "0        Link                       https://christuniversity.in/\n",
            "2        Link                https://christuniversity.in/careers\n",
            "3        Link          https://christuniversity.in/center/C/IQAC\n",
            "4        Link  https://christuniversity.in/center/C/Internati...\n",
            "5        Link                 https://christuniversity.in/center\n",
            "..        ...                                                ...\n",
            "422     Image  https://christuniversity.in/images/social-icon...\n",
            "423     Image  https://christuniversity.in/images/social-icon...\n",
            "424     Image  https://christuniversity.in/images/social-icon...\n",
            "425     Image  https://christuniversity.in/images/social-icon...\n",
            "426     Image  https://christuniversity.in/images/social-icon...\n",
            "\n",
            "[337 rows x 2 columns]\n"
          ]
        }
      ]
    },
    {
      "cell_type": "code",
      "source": [
        "# Calculating the number of links and images in the website\n",
        "df[\"Link Type\"].value_counts().to_csv(\"Original_Links_Count.csv\")"
      ],
      "metadata": {
        "id": "tGhPsl7_txJv"
      },
      "execution_count": 12,
      "outputs": []
    },
    {
      "cell_type": "code",
      "source": [
        "# removing all the duplicate links from the datframe\n",
        "df.drop_duplicates( subset=[\"URL\"], inplace=True)\n",
        "print(df)"
      ],
      "metadata": {
        "colab": {
          "base_uri": "https://localhost:8080/"
        },
        "id": "tms03V4QpaNq",
        "outputId": "4dbe0dab-58e6-44e6-fcd4-1786b98903bc"
      },
      "execution_count": 13,
      "outputs": [
        {
          "output_type": "stream",
          "name": "stdout",
          "text": [
            "    Link Type                                                URL\n",
            "0        Link                       https://christuniversity.in/\n",
            "2        Link                https://christuniversity.in/careers\n",
            "3        Link          https://christuniversity.in/center/C/IQAC\n",
            "4        Link  https://christuniversity.in/center/C/Internati...\n",
            "5        Link                 https://christuniversity.in/center\n",
            "..        ...                                                ...\n",
            "422     Image  https://christuniversity.in/images/social-icon...\n",
            "423     Image  https://christuniversity.in/images/social-icon...\n",
            "424     Image  https://christuniversity.in/images/social-icon...\n",
            "425     Image  https://christuniversity.in/images/social-icon...\n",
            "426     Image  https://christuniversity.in/images/social-icon...\n",
            "\n",
            "[301 rows x 2 columns]\n"
          ]
        }
      ]
    },
    {
      "cell_type": "code",
      "source": [
        "df[\"Link Type\"].value_counts().to_csv(\"Update_Links_Count.csv\")"
      ],
      "metadata": {
        "id": "0t2fAqXrqD-V"
      },
      "execution_count": 14,
      "outputs": []
    },
    {
      "cell_type": "code",
      "source": [
        "# Saving the dataframe into a csv file\n",
        "df.to_csv('Links_Output.csv', index=False)"
      ],
      "metadata": {
        "id": "9JVX1A4qogcM"
      },
      "execution_count": 15,
      "outputs": []
    }
  ]
}